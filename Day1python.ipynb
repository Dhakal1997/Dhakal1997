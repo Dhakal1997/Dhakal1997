{
  "nbformat": 4,
  "nbformat_minor": 0,
  "metadata": {
    "colab": {
      "provenance": [],
      "authorship_tag": "ABX9TyMyOPTE6WRPzJ2/9BfRgXL5",
      "include_colab_link": true
    },
    "kernelspec": {
      "name": "python3",
      "display_name": "Python 3"
    },
    "language_info": {
      "name": "python"
    }
  },
  "cells": [
    {
      "cell_type": "markdown",
      "metadata": {
        "id": "view-in-github",
        "colab_type": "text"
      },
      "source": [
        "<a href=\"https://colab.research.google.com/github/Dhakal1997/Dhakal1997/blob/main/Day1python.ipynb\" target=\"_parent\"><img src=\"https://colab.research.google.com/assets/colab-badge.svg\" alt=\"Open In Colab\"/></a>"
      ]
    },
    {
      "cell_type": "code",
      "source": [
        "a = input(\"Please Enter your Address: \")\n",
        "b = input(\"Year:  \")\n",
        "c = input(\"Status: \")\n",
        "print(f\"My town is {a}\")\n",
        "print(f\"Today's date is {b}\")\n",
        "print(f\"My work status is {c}\")"
      ],
      "metadata": {
        "colab": {
          "base_uri": "https://localhost:8080/"
        },
        "id": "f_-TVRWD2h8x",
        "outputId": "db510c3f-7c42-46e1-ff06-15f3b39cbdbd"
      },
      "execution_count": 23,
      "outputs": [
        {
          "output_type": "stream",
          "name": "stdout",
          "text": [
            "Please Enter your Address: Ktm\n",
            "Year:  2023\n",
            "Status: unemployed\n",
            "My town is Ktm\n",
            "Today's date is 2023\n",
            "My work status is unemployed\n"
          ]
        }
      ]
    }
  ]
}