{
  "nbformat": 4,
  "nbformat_minor": 0,
  "metadata": {
    "colab": {
      "provenance": [],
      "authorship_tag": "ABX9TyPsKQZxj7VSkgWvX+Vssb2C",
      "include_colab_link": true
    },
    "kernelspec": {
      "name": "python3",
      "display_name": "Python 3"
    },
    "language_info": {
      "name": "python"
    }
  },
  "cells": [
    {
      "cell_type": "markdown",
      "metadata": {
        "id": "view-in-github",
        "colab_type": "text"
      },
      "source": [
        "<a href=\"https://colab.research.google.com/github/Dhakal1997/Dhakal1997/blob/main/If_else.ipynb\" target=\"_parent\"><img src=\"https://colab.research.google.com/assets/colab-badge.svg\" alt=\"Open In Colab\"/></a>"
      ]
    },
    {
      "cell_type": "code",
      "source": [
        "num =  int(input(\"Enter a number: \"))\n",
        "print(f\"{num}\")\n",
        "if num > 0:\n",
        "  print(\"input number is positive\")\n",
        "\n",
        "else:\n",
        "   print(\"input number is negetive\")\n"
      ],
      "metadata": {
        "colab": {
          "base_uri": "https://localhost:8080/"
        },
        "id": "xOi0Ca3AHlUA",
        "outputId": "e36b4d0a-7c2c-49a0-a9df-9b11c17f564c"
      },
      "execution_count": 53,
      "outputs": [
        {
          "output_type": "stream",
          "name": "stdout",
          "text": [
            "Enter a number: -9\n",
            "-9\n",
            "input number is negetive\n"
          ]
        }
      ]
    }
  ]
}