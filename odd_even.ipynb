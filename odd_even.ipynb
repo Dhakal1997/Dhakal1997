{
  "nbformat": 4,
  "nbformat_minor": 0,
  "metadata": {
    "colab": {
      "provenance": [],
      "authorship_tag": "ABX9TyPTo0PxHVXPhcf+MH5yRInI",
      "include_colab_link": true
    },
    "kernelspec": {
      "name": "python3",
      "display_name": "Python 3"
    },
    "language_info": {
      "name": "python"
    }
  },
  "cells": [
    {
      "cell_type": "markdown",
      "metadata": {
        "id": "view-in-github",
        "colab_type": "text"
      },
      "source": [
        "<a href=\"https://colab.research.google.com/github/Dhakal1997/Dhakal1997/blob/main/odd_even.ipynb\" target=\"_parent\"><img src=\"https://colab.research.google.com/assets/colab-badge.svg\" alt=\"Open In Colab\"/></a>"
      ]
    },
    {
      "cell_type": "code",
      "source": [
        "numb =int(input(\"Enter a number \"))\n",
        "if (numb % 2 ) == 0:\n",
        "  print(f\"Given number is even\")\n",
        "else:\n",
        "  print(f\"Given number is odd\")\n",
        "\n",
        "\n",
        "\n",
        "\n",
        "\n",
        "\n"
      ],
      "metadata": {
        "colab": {
          "base_uri": "https://localhost:8080/"
        },
        "id": "xOi0Ca3AHlUA",
        "outputId": "453d4f03-9191-46a3-a875-93c20b533bad"
      },
      "execution_count": 57,
      "outputs": [
        {
          "output_type": "stream",
          "name": "stdout",
          "text": [
            "Enter a number 26\n",
            "Given number is even\n"
          ]
        }
      ]
    }
  ]
}