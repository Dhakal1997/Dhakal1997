{
  "nbformat": 4,
  "nbformat_minor": 0,
  "metadata": {
    "colab": {
      "provenance": [],
      "authorship_tag": "ABX9TyPA9eNij36BJPjH7HrP7AXZ",
      "include_colab_link": true
    },
    "kernelspec": {
      "name": "python3",
      "display_name": "Python 3"
    },
    "language_info": {
      "name": "python"
    }
  },
  "cells": [
    {
      "cell_type": "markdown",
      "metadata": {
        "id": "view-in-github",
        "colab_type": "text"
      },
      "source": [
        "<a href=\"https://colab.research.google.com/github/Dhakal1997/Dhakal1997/blob/main/operational.ipynb\" target=\"_parent\"><img src=\"https://colab.research.google.com/assets/colab-badge.svg\" alt=\"Open In Colab\"/></a>"
      ]
    },
    {
      "cell_type": "code",
      "source": [
        "num = int(input(\"Enter 1 st number \"))\n",
        "gum = int(input(\"Enter 2nd number: \"))\n",
        "print(f\"Sum of two input is {num + gum }. \")\n",
        "print(f\"Diff of two input is {num - gum }. \")\n",
        "print(f\"Product of two input is {num * gum }. \")\n",
        "print(f\"Power of two input is {num ** gum }. \")\n",
        "print(f\"Div of two input is {num / gum }. Output is in Float \")\n",
        "print(f\"Div of two input is {num // gum }. Output is in interger(with round up)\")\n",
        "print(f\"Reminder of two input is {num % gum }. \")"
      ],
      "metadata": {
        "colab": {
          "base_uri": "https://localhost:8080/"
        },
        "id": "ngTLleO7BXOs",
        "outputId": "f0a8baca-7413-4b92-b7a4-7b10b291eaaf"
      },
      "execution_count": 40,
      "outputs": [
        {
          "output_type": "stream",
          "name": "stdout",
          "text": [
            "Enter 1 st number 5\n",
            "Enter 2nd number: 2\n",
            "Sum of two input is 7. \n",
            "Diff of two input is 3. \n",
            "Product of two input is 10. \n",
            "Power of two input is 25. \n",
            "Div of two input is 2.5. Output is in Float \n",
            "Div of two input is 2. Output is in interger(with round up)\n",
            "Reminder of two input is 1. \n"
          ]
        }
      ]
    }
  ]
}