{
  "nbformat": 4,
  "nbformat_minor": 0,
  "metadata": {
    "colab": {
      "provenance": [],
      "authorship_tag": "ABX9TyMI/vyX0DUWEeJjZ8hoX1TZ",
      "include_colab_link": true
    },
    "kernelspec": {
      "name": "python3",
      "display_name": "Python 3"
    },
    "language_info": {
      "name": "python"
    }
  },
  "cells": [
    {
      "cell_type": "markdown",
      "metadata": {
        "id": "view-in-github",
        "colab_type": "text"
      },
      "source": [
        "<a href=\"https://colab.research.google.com/github/Dhakal1997/Dhakal1997/blob/main/temp1.ipynb\" target=\"_parent\"><img src=\"https://colab.research.google.com/assets/colab-badge.svg\" alt=\"Open In Colab\"/></a>"
      ]
    },
    {
      "cell_type": "code",
      "source": [
        "# Temperature Converter and analysis\n",
        "temp= int(input(\"Enter the temp in C: \"))\n",
        "fer = (temp*9/5)+32\n",
        "print(\"temp in F: \"\n",
        ")\n",
        "print( fer )\n",
        "# fer is less than 50\n",
        "if fer < 50:\n",
        "  print(\"It is cold day\")\n",
        "# fer in between 50 to 65\n",
        "elif 50 < fer < 65:\n",
        "  print(\"It is average day\")\n",
        "else:\n",
        "  print(\"It is hot day\")\n",
        "\n",
        "\n",
        "\n",
        "\n"
      ],
      "metadata": {
        "colab": {
          "base_uri": "https://localhost:8080/"
        },
        "id": "OZ8CTjM_kla1",
        "outputId": "20fde773-fe12-47c4-d776-1ea2b7d5a9d4"
      },
      "execution_count": 37,
      "outputs": [
        {
          "output_type": "stream",
          "name": "stdout",
          "text": [
            "Enter the temp in C: 7\n",
            "temp in F: \n",
            "44.6\n",
            "It is cold day\n"
          ]
        }
      ]
    }
  ]
}