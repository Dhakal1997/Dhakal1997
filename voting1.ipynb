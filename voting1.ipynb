{
  "nbformat": 4,
  "nbformat_minor": 0,
  "metadata": {
    "colab": {
      "provenance": [],
      "authorship_tag": "ABX9TyOw7JfjalIfHiY0pGcdrMfH",
      "include_colab_link": true
    },
    "kernelspec": {
      "name": "python3",
      "display_name": "Python 3"
    },
    "language_info": {
      "name": "python"
    }
  },
  "cells": [
    {
      "cell_type": "markdown",
      "metadata": {
        "id": "view-in-github",
        "colab_type": "text"
      },
      "source": [
        "<a href=\"https://colab.research.google.com/github/Dhakal1997/Dhakal1997/blob/main/voting1.ipynb\" target=\"_parent\"><img src=\"https://colab.research.google.com/assets/colab-badge.svg\" alt=\"Open In Colab\"/></a>"
      ]
    },
    {
      "cell_type": "code",
      "execution_count": 21,
      "metadata": {
        "colab": {
          "base_uri": "https://localhost:8080/"
        },
        "id": "kaQB06CYN3il",
        "outputId": "73170af5-1978-4f39-86cd-056993d1984c"
      },
      "outputs": [
        {
          "output_type": "stream",
          "name": "stdout",
          "text": [
            "Enter your age 25\n",
            "you can vote \n",
            " you have been voting from 7 years\n"
          ]
        }
      ],
      "source": [
        "\n",
        "#voting assignment\n",
        "age = int(input(\"Enter your age \"))\n",
        "#age is greater than or equal to 18\n",
        "if age>= 18:\n",
        "  print(f\"you can vote \\n you have been voting from {age-18} years\")\n",
        "\n",
        "else:\n",
        "  print(f\" you can vote now but \\n cant vote {18-age} years\")\n"
      ]
    }
  ]
}